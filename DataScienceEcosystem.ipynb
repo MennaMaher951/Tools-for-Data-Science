{
 "cells": [
  {
   "cell_type": "markdown",
   "id": "4e02c95e",
   "metadata": {},
   "source": [
    "# Data Science Tools & Ecosystem"
   ]
  },
  {
   "cell_type": "markdown",
   "id": "43035d5f",
   "metadata": {},
   "source": [
    " In this notebook, Data Science Tools and Ecosystem are summarized "
   ]
  },
  {
   "cell_type": "markdown",
   "id": "d237df34",
   "metadata": {},
   "source": [
    "__Objectives:__\n",
    "* The most populer languages for Data Science is : python, R ,SQL\n",
    "* The Data Science Task Categories include:Data Management, Data Integration and Transformation, Data Visualization\n",
    "* libraries for Data Science : Numpy, Pandas, Matplotlib\n",
    "* ML libraries such as : scikit Learn"
   ]
  },
  {
   "cell_type": "markdown",
   "id": "d5f73dcf",
   "metadata": {},
   "source": [
    "Some of the popular languages that Data Sciencs use:\n",
    "1. Python\n",
    "2. R\n",
    "3. SQL"
   ]
  },
  {
   "cell_type": "markdown",
   "id": "ad052b6e",
   "metadata": {},
   "source": [
    "Some of the commonly used libraries used by Data Scientist are:\n",
    "* Numpy\n",
    "* Pandas \n",
    "* Matplotlib"
   ]
  },
  {
   "cell_type": "markdown",
   "id": "8182cb71",
   "metadata": {},
   "source": [
    "Data Science Tools|\n",
    "----------------------------\n",
    "TensorFlow|\n",
    "Apache Spark|\n",
    "RStusio|\n"
   ]
  },
  {
   "cell_type": "markdown",
   "id": "bfb0bf9c",
   "metadata": {},
   "source": [
    "### Below are a few examples of evaluating arethmatic expressions in python"
   ]
  },
  {
   "cell_type": "code",
   "execution_count": 1,
   "id": "deefc671",
   "metadata": {},
   "outputs": [
    {
     "data": {
      "text/plain": [
       "17"
      ]
     },
     "execution_count": 1,
     "metadata": {},
     "output_type": "execute_result"
    }
   ],
   "source": [
    "# this a simple arithmaatic expression to multiply then add integers\n",
    "(3*4)+5"
   ]
  },
  {
   "cell_type": "code",
   "execution_count": 2,
   "id": "07715f35",
   "metadata": {},
   "outputs": [
    {
     "data": {
      "text/plain": [
       "3.3333333333333335"
      ]
     },
     "execution_count": 2,
     "metadata": {},
     "output_type": "execute_result"
    }
   ],
   "source": [
    "# this will convert 200 minutes into hours by dividing by 60\n",
    "200/60"
   ]
  },
  {
   "cell_type": "markdown",
   "id": "826b2dca",
   "metadata": {},
   "source": [
    "## Auther\n",
    "Menna Allah Maher"
   ]
  },
  {
   "cell_type": "code",
   "execution_count": null,
   "id": "d4643b2f",
   "metadata": {},
   "outputs": [],
   "source": []
  }
 ],
 "metadata": {
  "kernelspec": {
   "display_name": "Python 3 (ipykernel)",
   "language": "python",
   "name": "python3"
  },
  "language_info": {
   "codemirror_mode": {
    "name": "ipython",
    "version": 3
   },
   "file_extension": ".py",
   "mimetype": "text/x-python",
   "name": "python",
   "nbconvert_exporter": "python",
   "pygments_lexer": "ipython3",
   "version": "3.10.9"
  }
 },
 "nbformat": 4,
 "nbformat_minor": 5
}
